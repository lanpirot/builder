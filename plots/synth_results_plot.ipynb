{
 "cells": [
  {
   "cell_type": "code",
   "id": "initial_id",
   "metadata": {
    "collapsed": true,
    "ExecuteTime": {
     "end_time": "2025-10-07T15:31:16.161295Z",
     "start_time": "2025-10-07T15:31:16.158572Z"
    }
   },
   "source": [
    "import loadcsvs\n",
    "import matplotlib.pyplot as plt\n",
    "import seaborn as sns\n",
    "from matplotlib import rcParams\n",
    "import numpy as np\n",
    "from matplotlib.ticker import LogLocator\n",
    "\n",
    "# LaTeX font setup\n",
    "rcParams.update({\n",
    "    \"text.usetex\": True,\n",
    "    \"font.family\": \"serif\",\n",
    "    \"font.serif\": [\"Computer Modern Roman\"],\n",
    "    \"font.size\": 10\n",
    "})"
   ],
   "outputs": [],
   "execution_count": 1
  },
  {
   "cell_type": "code",
   "id": "cb3a4a1625da2767",
   "metadata": {
    "ExecuteTime": {
     "end_time": "2025-10-07T15:31:16.196841Z",
     "start_time": "2025-10-07T15:31:16.166524Z"
    }
   },
   "source": [
    "directory = '/home/lanpirot/data/builder'\n",
    "df = loadcsvs.process_directory(directory)\n",
    "df.columns = df.columns.str.strip()"
   ],
   "outputs": [
    {
     "name": "stdout",
     "output_type": "stream",
     "text": [
      "Processed: /home/lanpirot/data/builder/archive3/0/GIANT/synth_report.csv\n",
      "Processed: /home/lanpirot/data/builder/archive3/0/AST_MODEL/synth_report.csv\n",
      "Processed: /home/lanpirot/data/builder/archive3/0/DEPTH/synth_report.csv\n",
      "Processed: /home/lanpirot/data/builder/archive3/0/WIDTH/synth_report.csv\n",
      "Processed: /home/lanpirot/data/builder/archive3/0/SLNET/synth_report.csv\n",
      "Processed: /home/lanpirot/data/builder/archive3/0/RANDOM/synth_report.csv\n",
      "Processed: /home/lanpirot/data/builder/archive3/1/GIANT/synth_report.csv\n",
      "Processed: /home/lanpirot/data/builder/archive3/1/AST_MODEL/synth_report.csv\n",
      "Processed: /home/lanpirot/data/builder/archive3/1/DEPTH/synth_report.csv\n",
      "Processed: /home/lanpirot/data/builder/archive3/1/WIDTH/synth_report.csv\n",
      "Processed: /home/lanpirot/data/builder/archive3/1/SLNET/synth_report.csv\n",
      "Processed: /home/lanpirot/data/builder/archive3/1/RANDOM/synth_report.csv\n"
     ]
    }
   ],
   "execution_count": 2
  },
  {
   "metadata": {
    "ExecuteTime": {
     "end_time": "2025-10-07T15:31:16.230334Z",
     "start_time": "2025-10-07T15:31:16.221716Z"
    }
   },
   "cell_type": "code",
   "source": [
    "df = df.dropna(subset=['depth'])\n",
    "good_models = df.dropna()\n",
    "bad_models = df[df['save_time'].isna()]\n",
    "print(f\"Only {len(bad_models)/len(df)*100:.3g}% of the models have a failed synthesis.\")\n",
    "df = df.dropna(subset=['save_time'])\n"
   ],
   "id": "f424bd5449f91d6b",
   "outputs": [
    {
     "name": "stdout",
     "output_type": "stream",
     "text": [
      "Only 59.3% of the models have a failed synthesis.\n"
     ]
    }
   ],
   "execution_count": 3
  },
  {
   "metadata": {
    "ExecuteTime": {
     "end_time": "2025-10-07T15:31:16.529036Z",
     "start_time": "2025-10-07T15:31:16.270324Z"
    }
   },
   "cell_type": "code",
   "source": [
    "fig, ax1 = plt.subplots(figsize=(7.16, 4))\n",
    "\n",
    "mode = \"WIDTH\"\n",
    "colors = {'build_time': \"#2166acff\", 'save_time': \"#b2182bff\"}\n",
    "\n",
    "# Filter data for build_time\n",
    "x_data_build = df.loc[(df[\"mode\"] == mode) & (df[\"needs_to_be_compilable\"] == 0), [\"elements\", \"build_time\"]]\n",
    "# Create scatter plot for build_time\n",
    "ax1.scatter(x_data_build[\"elements\"], x_data_build[\"build_time\"], color=colors['build_time'], alpha=0.5, label='Blueprint Time')\n",
    "ax1.set_xlabel(\"\\#Blocks\")\n",
    "ax1.set_ylabel(\"Blueprint Time in s\")\n",
    "ax1.tick_params(axis='y')\n",
    "\n",
    "# Set x-ticks and labels\n",
    "ax1.set_xticks([0, 500000, 1000000])\n",
    "ax1.set_xticklabels(['0', '500,000', '1,000,000'])\n",
    "\n",
    "# Create a second y-axis for save_time\n",
    "ax2 = ax1.twinx()\n",
    "# Filter data for save_time\n",
    "x_data_save = df.loc[(df[\"mode\"] == mode) & (df[\"needs_to_be_compilable\"] == 0), [\"elements\", \"save_time\"]]\n",
    "# Create scatter plot for save_time\n",
    "ax2.scatter(x_data_save[\"elements\"], x_data_save[\"save_time\"], color=colors['save_time'], alpha=0.5, label='Construction Time')\n",
    "ax2.set_ylabel(\"Construction Time in s\")\n",
    "ax2.tick_params(axis='y')\n",
    "\n",
    "# Set y-ticks for both axes to align the 0 baseline\n",
    "ax1.set_ylim(bottom=0)\n",
    "ax2.set_ylim(bottom=0)\n",
    "\n",
    "# Set y-ticks for the axes\n",
    "ax1.set_yticks([0, 10, 20, 30])\n",
    "ax2.set_yticks([0, 5000, 10000])\n",
    "ax2.set_yticklabels(['0', '5,000', '10,000'])\n",
    "\n",
    "# Add title and grid\n",
    "fig.tight_layout()\n",
    "ax1.grid(True)\n",
    "\n",
    "# Combine legends from both axes\n",
    "lines1, labels1 = ax1.get_legend_handles_labels()\n",
    "lines2, labels2 = ax2.get_legend_handles_labels()\n",
    "ax1.legend(lines1 + lines2, labels1 + labels2, loc='upper left')\n",
    "ax1.set_xlim(left=0)\n",
    "\n",
    "# Show plot\n",
    "plt.savefig(\"linear.pdf\", bbox_inches=\"tight\", dpi=300)\n",
    "plt.show()"
   ],
   "id": "ba322a143ee33a71",
   "outputs": [
    {
     "data": {
      "text/plain": [
       "<Figure size 716x400 with 2 Axes>"
      ],
      "image/png": "[encoded data removed]"
     },
     "metadata": {},
     "output_type": "display_data"
    }
   ],
   "execution_count": 4
  },
  {
   "metadata": {
    "ExecuteTime": {
     "end_time": "2025-10-07T15:31:16.535028Z",
     "start_time": "2025-10-07T15:31:16.532549Z"
    }
   },
   "cell_type": "code",
   "source": [
    "df['build_time'] = df['elements']/df['build_time']\n",
    "df['save_time'] = df['elements']/df['save_time']"
   ],
   "id": "81caf7aa8352f70e",
   "outputs": [],
   "execution_count": 5
  },
  {
   "metadata": {
    "ExecuteTime": {
     "end_time": "2025-10-07T15:33:13.622129Z",
     "start_time": "2025-10-07T15:33:02.374979Z"
    }
   },
   "cell_type": "code",
   "source": [
    "# Constants\n",
    "BOX_WIDTH = 0.6\n",
    "BRACKET_Y_POS = -0.8\n",
    "LABEL_Y_POS = BRACKET_Y_POS + 0.15\n",
    "COLORS = {\n",
    "    \"box\": \"#2166acff\",\n",
    "    \"median\": \"#fddbc7ff\",\n",
    "    \"outlier\": \"#ef8a62ff\",\n",
    "    \"slnet\": \"#b2182bff\"\n",
    "}\n",
    "MODE_MAPPING = {\n",
    "    \"SLNET\": \"SLNET\",\n",
    "    \"ROLE\": \"AST_MODEL\",\n",
    "    \"BUSHY\": \"WIDTH\",\n",
    "    \"DEEP\": \"DEPTH\",\n",
    "    \"RANDOM\": \"RANDOM\",\n",
    "    \"GIANT\": \"GIANT\"\n",
    "}\n",
    "YLABEL_MAPPING = {\n",
    "    \"depth\": \"Depth\",\n",
    "    \"unique_models\": \"\\\\#Unique\\nmodels in model\",\n",
    "    \"unique_subsystems\": \"\\\\#Unique\\nSubsystems\",\n",
    "    \"build_time\": \"Blueprint\\n\\\\#Blocks/s\",\n",
    "    \"save_time\": \"Construction\\n\\\\#Blocks/s\",\n",
    "    \"elements\": \"\\\\#Blocks\",\n",
    "    \"subs\": \"\\\\#Subsystems\"\n",
    "}\n",
    "\n",
    "FONT_SIZE = 10\n",
    "# LaTeX font setup\n",
    "rcParams.update({\n",
    "    \"text.usetex\": True,\n",
    "    \"font.family\": \"serif\",\n",
    "    \"font.serif\": [\"Computer Modern Roman\"],\n",
    "    \"font.size\": FONT_SIZE\n",
    "})\n",
    "\n",
    "def plot_boxplot_group(ax, data, positions, color, median_color, outlier_color):\n",
    "    sns.boxplot(\n",
    "        data=data, ax=ax, positions=positions, width=BOX_WIDTH,\n",
    "        color=color, medianprops={\"color\": median_color, \"linewidth\": 1},\n",
    "        flierprops={\n",
    "            \"marker\": \"o\",\n",
    "            \"markerfacecolor\": outlier_color,\n",
    "            \"markeredgecolor\": \"black\",\n",
    "            \"markersize\": 4,\n",
    "            \"alpha\": 0.4\n",
    "        }\n",
    "    )\n",
    "\n",
    "def add_group_bracket(ax, start, end, label):\n",
    "    ax.annotate(\"\", xy=(end, BRACKET_Y_POS), xycoords=('data', 'axes fraction'),\n",
    "                xytext=(start, BRACKET_Y_POS), textcoords=('data', 'axes fraction'),\n",
    "                arrowprops=dict(arrowstyle=\"-\", color=\"black\"))\n",
    "    ax.annotate(\"\", xy=(start+0.05, BRACKET_Y_POS-0.025), xycoords=('data', 'axes fraction'),\n",
    "                xytext=(start+0.05, BRACKET_Y_POS + 0.1), textcoords=('data', 'axes fraction'),\n",
    "                arrowprops=dict(arrowstyle=\"-\", color=\"black\"))\n",
    "    ax.annotate(\"\", xy=(end-0.05, BRACKET_Y_POS-0.025), xycoords=('data', 'axes fraction'),\n",
    "                xytext=(end-0.05, BRACKET_Y_POS + 0.1), textcoords=('data', 'axes fraction'),\n",
    "                arrowprops=dict(arrowstyle=\"-\", color=\"black\"))\n",
    "    ax.annotate(label, xy=((start + end)/2, LABEL_Y_POS), xycoords=('data', 'axes fraction'),\n",
    "                ha=\"center\", va=\"top\", fontsize=FONT_SIZE)\n",
    "\n",
    "# Metrics and modes\n",
    "metrics = [\"elements\", \"depth\", \"unique_models\", \"build_time\", \"save_time\"]\n",
    "modes = [\"SLNET\", \"RANDOM\", \"ROLE\", \"BUSHY\", \"DEEP\", \"GIANT\"]\n",
    "c0_positions = list(range(len(modes)))\n",
    "c1_positions = [pos + len(modes) for pos in c0_positions]\n",
    "positions = c0_positions + c1_positions\n",
    "mode_labels = [*modes, *modes]\n",
    "\n",
    "# Create figure\n",
    "fig, axes = plt.subplots(\n",
    "    nrows=len(metrics), ncols=1,\n",
    "    figsize=(7.16, 8),\n",
    "    sharex=True,\n",
    "    gridspec_kw={\"hspace\": 0.2}\n",
    ")\n",
    "\n",
    "for i, metric in enumerate(metrics):\n",
    "    ax = axes[i]\n",
    "\n",
    "    # Plot c=0\n",
    "    for j, mode in enumerate(modes):\n",
    "        if mode == \"SLNET\":\n",
    "            if metric in [\"build_time\", \"save_time\"]:\n",
    "                continue\n",
    "            box_color = COLORS[\"slnet\"]\n",
    "        else:\n",
    "            box_color = COLORS[\"box\"]\n",
    "        search_mode = MODE_MAPPING.get(mode, mode)\n",
    "        data = df[(df[\"mode\"] == search_mode) &\n",
    "                          (df[\"needs_to_be_compilable\"] == 0)][metric]\n",
    "        plot_boxplot_group(ax, data, [c0_positions[j]], box_color, COLORS[\"median\"], COLORS[\"outlier\"])\n",
    "\n",
    "    # Plot c=1\n",
    "    for j, mode in enumerate(modes):\n",
    "        if mode == \"SLNET\":\n",
    "            if metric in [\"build_time\", \"save_time\"]:\n",
    "                continue\n",
    "            box_color = COLORS[\"slnet\"]\n",
    "        else:\n",
    "            box_color = COLORS[\"box\"]\n",
    "        search_mode = MODE_MAPPING.get(mode, mode)\n",
    "        data = df[(df[\"mode\"] == search_mode) &\n",
    "                          (df[\"needs_to_be_compilable\"] == 1)][metric]\n",
    "        plot_boxplot_group(ax, data, [c1_positions[j]], box_color, COLORS[\"median\"], COLORS[\"outlier\"])\n",
    "\n",
    "\n",
    "    # Customize\n",
    "    if i == len(metrics) - 1:\n",
    "        ax.set_xticks(positions)\n",
    "        ax.set_xticklabels(mode_labels, rotation=90, ha=\"center\", fontsize=FONT_SIZE)\n",
    "    else:\n",
    "        ax.set_xticklabels([])\n",
    "    ax.set_ylabel(YLABEL_MAPPING[metric])\n",
    "    ax.tick_params(axis='y', labelsize=FONT_SIZE-4)\n",
    "    ax.set_ylabel(YLABEL_MAPPING[metric], fontsize=FONT_SIZE)\n",
    "    ax.set_yscale('log')\n",
    "    if metric == \"depth\":\n",
    "        ax.set_yscale('symlog')\n",
    "    ax.grid(True, which=\"major\", linestyle=\"--\", alpha=0.3)\n",
    "    if metric == \"build_time\":\n",
    "        ax.set_yticks([0.01,0.1,1,10,100,1000,10000,100000])\n",
    "        #ax.yaxis.set_major_locator(LogLocator(base=10, numticks=5))\n",
    "\n",
    "# Add brackets\n",
    "ax = axes[-1]\n",
    "add_group_bracket(ax, -0.3, 5.3, \"untyped\")\n",
    "add_group_bracket(ax, 5.7, 11.3, \"typed\")\n",
    "ax.set_xlim(-0.5, 11.5)\n",
    "\n",
    "# Save\n",
    "plt.tight_layout()\n",
    "plt.savefig(\"boxplot_panel.pdf\", bbox_inches=\"tight\", dpi=300)\n",
    "plt.show()\n"
   ],
   "id": "8a94e6a6985d1f45",
   "outputs": [
    {
     "ename": "KeyboardInterrupt",
     "evalue": "",
     "output_type": "error",
     "traceback": [
      "\u001B[31m---------------------------------------------------------------------------\u001B[39m",
      "\u001B[31mKeyboardInterrupt\u001B[39m                         Traceback (most recent call last)",
      "\u001B[36mCell\u001B[39m\u001B[36m \u001B[39m\u001B[32mIn[7]\u001B[39m\u001B[32m, line 3\u001B[39m\n\u001B[32m      1\u001B[39m \u001B[38;5;66;03m# Constants\u001B[39;00m\n\u001B[32m      2\u001B[39m BOX_WIDTH = \u001B[32m0.6\u001B[39m\n\u001B[32m----> \u001B[39m\u001B[32m3\u001B[39m BRACKET_Y_POS = -\u001B[32m0.8\u001B[39m\n\u001B[32m      4\u001B[39m LABEL_Y_POS = BRACKET_Y_POS + \u001B[32m0.15\u001B[39m\n\u001B[32m      5\u001B[39m COLORS = {\n\u001B[32m      6\u001B[39m     \u001B[33m\"\u001B[39m\u001B[33mbox\u001B[39m\u001B[33m\"\u001B[39m: \u001B[33m\"\u001B[39m\u001B[33m#2166acff\u001B[39m\u001B[33m\"\u001B[39m,\n\u001B[32m      7\u001B[39m     \u001B[33m\"\u001B[39m\u001B[33mmedian\u001B[39m\u001B[33m\"\u001B[39m: \u001B[33m\"\u001B[39m\u001B[33m#fddbc7ff\u001B[39m\u001B[33m\"\u001B[39m,\n\u001B[32m      8\u001B[39m     \u001B[33m\"\u001B[39m\u001B[33moutlier\u001B[39m\u001B[33m\"\u001B[39m: \u001B[33m\"\u001B[39m\u001B[33m#ef8a62ff\u001B[39m\u001B[33m\"\u001B[39m,\n\u001B[32m      9\u001B[39m     \u001B[33m\"\u001B[39m\u001B[33mslnet\u001B[39m\u001B[33m\"\u001B[39m: \u001B[33m\"\u001B[39m\u001B[33m#b2182bff\u001B[39m\u001B[33m\"\u001B[39m\n\u001B[32m     10\u001B[39m }\n",
      "\u001B[36mCell\u001B[39m\u001B[36m \u001B[39m\u001B[32mIn[7]\u001B[39m\u001B[32m, line 3\u001B[39m\n\u001B[32m      1\u001B[39m \u001B[38;5;66;03m# Constants\u001B[39;00m\n\u001B[32m      2\u001B[39m BOX_WIDTH = \u001B[32m0.6\u001B[39m\n\u001B[32m----> \u001B[39m\u001B[32m3\u001B[39m BRACKET_Y_POS = -\u001B[32m0.8\u001B[39m\n\u001B[32m      4\u001B[39m LABEL_Y_POS = BRACKET_Y_POS + \u001B[32m0.15\u001B[39m\n\u001B[32m      5\u001B[39m COLORS = {\n\u001B[32m      6\u001B[39m     \u001B[33m\"\u001B[39m\u001B[33mbox\u001B[39m\u001B[33m\"\u001B[39m: \u001B[33m\"\u001B[39m\u001B[33m#2166acff\u001B[39m\u001B[33m\"\u001B[39m,\n\u001B[32m      7\u001B[39m     \u001B[33m\"\u001B[39m\u001B[33mmedian\u001B[39m\u001B[33m\"\u001B[39m: \u001B[33m\"\u001B[39m\u001B[33m#fddbc7ff\u001B[39m\u001B[33m\"\u001B[39m,\n\u001B[32m      8\u001B[39m     \u001B[33m\"\u001B[39m\u001B[33moutlier\u001B[39m\u001B[33m\"\u001B[39m: \u001B[33m\"\u001B[39m\u001B[33m#ef8a62ff\u001B[39m\u001B[33m\"\u001B[39m,\n\u001B[32m      9\u001B[39m     \u001B[33m\"\u001B[39m\u001B[33mslnet\u001B[39m\u001B[33m\"\u001B[39m: \u001B[33m\"\u001B[39m\u001B[33m#b2182bff\u001B[39m\u001B[33m\"\u001B[39m\n\u001B[32m     10\u001B[39m }\n",
      "\u001B[36mFile \u001B[39m\u001B[32m/opt/pycharm-professional/plugins/python-ce/helpers/pydev/_pydevd_bundle/pydevd_frame.py:755\u001B[39m, in \u001B[36mPyDBFrame.trace_dispatch\u001B[39m\u001B[34m(self, frame, event, arg)\u001B[39m\n\u001B[32m    753\u001B[39m \u001B[38;5;66;03m# if thread has a suspend flag, we suspend with a busy wait\u001B[39;00m\n\u001B[32m    754\u001B[39m \u001B[38;5;28;01mif\u001B[39;00m info.pydev_state == STATE_SUSPEND:\n\u001B[32m--> \u001B[39m\u001B[32m755\u001B[39m     \u001B[38;5;28;43mself\u001B[39;49m\u001B[43m.\u001B[49m\u001B[43mdo_wait_suspend\u001B[49m\u001B[43m(\u001B[49m\u001B[43mthread\u001B[49m\u001B[43m,\u001B[49m\u001B[43m \u001B[49m\u001B[43mframe\u001B[49m\u001B[43m,\u001B[49m\u001B[43m \u001B[49m\u001B[43mevent\u001B[49m\u001B[43m,\u001B[49m\u001B[43m \u001B[49m\u001B[43marg\u001B[49m\u001B[43m)\u001B[49m\n\u001B[32m    756\u001B[39m     \u001B[38;5;66;03m# No need to reset frame.f_trace to keep the same trace function.\u001B[39;00m\n\u001B[32m    757\u001B[39m     \u001B[38;5;28;01mreturn\u001B[39;00m \u001B[38;5;28mself\u001B[39m.trace_dispatch\n",
      "\u001B[36mFile \u001B[39m\u001B[32m/opt/pycharm-professional/plugins/python-ce/helpers/pydev/_pydevd_bundle/pydevd_frame.py:412\u001B[39m, in \u001B[36mPyDBFrame.do_wait_suspend\u001B[39m\u001B[34m(self, *args, **kwargs)\u001B[39m\n\u001B[32m    411\u001B[39m \u001B[38;5;28;01mdef\u001B[39;00m\u001B[38;5;250m \u001B[39m\u001B[34mdo_wait_suspend\u001B[39m(\u001B[38;5;28mself\u001B[39m, *args, **kwargs):\n\u001B[32m--> \u001B[39m\u001B[32m412\u001B[39m     \u001B[38;5;28;43mself\u001B[39;49m\u001B[43m.\u001B[49m\u001B[43m_args\u001B[49m\u001B[43m[\u001B[49m\u001B[32;43m0\u001B[39;49m\u001B[43m]\u001B[49m\u001B[43m.\u001B[49m\u001B[43mdo_wait_suspend\u001B[49m\u001B[43m(\u001B[49m\u001B[43m*\u001B[49m\u001B[43margs\u001B[49m\u001B[43m,\u001B[49m\u001B[43m \u001B[49m\u001B[43m*\u001B[49m\u001B[43m*\u001B[49m\u001B[43mkwargs\u001B[49m\u001B[43m)\u001B[49m\n",
      "\u001B[36mFile \u001B[39m\u001B[32m/opt/pycharm-professional/plugins/python-ce/helpers/pydev/pydevd.py:1196\u001B[39m, in \u001B[36mPyDB.do_wait_suspend\u001B[39m\u001B[34m(self, thread, frame, event, arg, send_suspend_message, is_unhandled_exception)\u001B[39m\n\u001B[32m   1193\u001B[39m         from_this_thread.append(frame_id)\n\u001B[32m   1195\u001B[39m \u001B[38;5;28;01mwith\u001B[39;00m \u001B[38;5;28mself\u001B[39m._threads_suspended_single_notification.notify_thread_suspended(thread_id, stop_reason):\n\u001B[32m-> \u001B[39m\u001B[32m1196\u001B[39m     \u001B[38;5;28;43mself\u001B[39;49m\u001B[43m.\u001B[49m\u001B[43m_do_wait_suspend\u001B[49m\u001B[43m(\u001B[49m\u001B[43mthread\u001B[49m\u001B[43m,\u001B[49m\u001B[43m \u001B[49m\u001B[43mframe\u001B[49m\u001B[43m,\u001B[49m\u001B[43m \u001B[49m\u001B[43mevent\u001B[49m\u001B[43m,\u001B[49m\u001B[43m \u001B[49m\u001B[43marg\u001B[49m\u001B[43m,\u001B[49m\u001B[43m \u001B[49m\u001B[43msuspend_type\u001B[49m\u001B[43m,\u001B[49m\u001B[43m \u001B[49m\u001B[43mfrom_this_thread\u001B[49m\u001B[43m)\u001B[49m\n",
      "\u001B[36mFile \u001B[39m\u001B[32m/opt/pycharm-professional/plugins/python-ce/helpers/pydev/pydevd.py:1211\u001B[39m, in \u001B[36mPyDB._do_wait_suspend\u001B[39m\u001B[34m(self, thread, frame, event, arg, suspend_type, from_this_thread)\u001B[39m\n\u001B[32m   1208\u001B[39m             \u001B[38;5;28mself\u001B[39m._call_mpl_hook()\n\u001B[32m   1210\u001B[39m         \u001B[38;5;28mself\u001B[39m.process_internal_commands()\n\u001B[32m-> \u001B[39m\u001B[32m1211\u001B[39m         \u001B[43mtime\u001B[49m\u001B[43m.\u001B[49m\u001B[43msleep\u001B[49m\u001B[43m(\u001B[49m\u001B[32;43m0.01\u001B[39;49m\u001B[43m)\u001B[49m\n\u001B[32m   1213\u001B[39m \u001B[38;5;28mself\u001B[39m.cancel_async_evaluation(get_current_thread_id(thread), \u001B[38;5;28mstr\u001B[39m(\u001B[38;5;28mid\u001B[39m(frame)))\n\u001B[32m   1215\u001B[39m \u001B[38;5;66;03m# process any stepping instructions\u001B[39;00m\n",
      "\u001B[31mKeyboardInterrupt\u001B[39m: "
     ]
    }
   ],
   "execution_count": 9
  }
 ],
 "metadata": {
  "kernelspec": {
   "display_name": "Python 3 (ipykernel)",
   "language": "python",
   "name": "python3"
  },
  "language_info": {
   "codemirror_mode": {
    "name": "ipython",
    "version": 3
   },
   "file_extension": ".py",
   "mimetype": "text/x-python",
   "name": "python",
   "nbconvert_exporter": "python",
   "pygments_lexer": "ipython3",
   "version": "3.11.2"
  }
 },
 "nbformat": 4,
 "nbformat_minor": 5
}
